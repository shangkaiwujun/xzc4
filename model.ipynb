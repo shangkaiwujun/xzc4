{
 "cells": [
  {
   "cell_type": "code",
   "execution_count": 1,
   "metadata": {},
   "outputs": [],
   "source": [
    "import pandas as pd \n",
    "import numpy as np\n",
    "import torch\n",
    "import torch.nn as nn\n",
    "import torch.optim as optim\n",
    "import numpy as np\n",
    "from sklearn.model_selection import train_test_split\n",
    "import matplotlib.pyplot as plt\n",
    "from scipy.stats import pearsonr"
   ]
  },
  {
   "cell_type": "code",
   "execution_count": 2,
   "metadata": {},
   "outputs": [],
   "source": [
    "with open('raw.txt') as f:\n",
    "    a = f.readlines()\n",
    "a = list(map(lambda x:list(map(float,x.strip().split('   '))), a))\n",
    "data = np.array(a)\n",
    "del a"
   ]
  },
  {
   "cell_type": "code",
   "execution_count": 3,
   "metadata": {},
   "outputs": [],
   "source": [
    "data = data[data[:, 0] < -546]"
   ]
  },
  {
   "cell_type": "code",
   "execution_count": 4,
   "metadata": {},
   "outputs": [
    {
     "data": {
      "text/plain": [
       "(array([83., 84., 91., 59., 19., 15.,  9., 11., 10.,  9.]),\n",
       " array([-546.84097098, -546.75763825, -546.67430551, -546.59097277,\n",
       "        -546.50764003, -546.42430729, -546.34097455, -546.25764182,\n",
       "        -546.17430908, -546.09097634, -546.0076436 ]),\n",
       " <BarContainer object of 10 artists>)"
      ]
     },
     "execution_count": 4,
     "metadata": {},
     "output_type": "execute_result"
    },
    {
     "data": {
      "image/png": "[encoded data removed]",
      "text/plain": [
       "<Figure size 432x288 with 1 Axes>"
      ]
     },
     "metadata": {
      "needs_background": "light"
     },
     "output_type": "display_data"
    }
   ],
   "source": [
    "plt.hist(data[:, :1])"
   ]
  },
  {
   "cell_type": "code",
   "execution_count": 5,
   "metadata": {},
   "outputs": [],
   "source": [
    "num_epochs = 10000\n",
    "batch_size = 128\n",
    "learning_rate = 0.01\n",
    "random_seed = 14\n",
    "best_model_path = './best_model.pth'\n",
    "\n",
    "# 早停参数\n",
    "patience = 100\n",
    "\n",
    "# 定义MLP模型\n",
    "class MLP(nn.Module):\n",
    "    def __init__(self):\n",
    "        super(MLP, self).__init__()\n",
    "        self.hidden1 = nn.Linear(X_train.shape[1], 32)\n",
    "        self.output = nn.Linear(32, 1)\n",
    "        \n",
    "    def forward(self, x):\n",
    "        x = torch.sigmoid(self.hidden1(x))\n",
    "        x = self.output(x)\n",
    "        return x"
   ]
  },
  {
   "cell_type": "code",
   "execution_count": 6,
   "metadata": {},
   "outputs": [
    {
     "name": "stdout",
     "output_type": "stream",
     "text": [
      "Using device: cuda\n",
      "Epoch [100/10000], Train Loss: 0.8730, Test Loss: 0.8334\n",
      "Epoch [200/10000], Train Loss: 0.8246, Test Loss: 0.7648\n",
      "Epoch [300/10000], Train Loss: 0.7529, Test Loss: 0.6736\n",
      "Epoch [400/10000], Train Loss: 0.5829, Test Loss: 0.5185\n",
      "Epoch [500/10000], Train Loss: 0.3533, Test Loss: 0.3405\n",
      "Epoch [600/10000], Train Loss: 0.2491, Test Loss: 0.2571\n",
      "Epoch [700/10000], Train Loss: 0.2092, Test Loss: 0.2304\n",
      "Epoch [800/10000], Train Loss: 0.1855, Test Loss: 0.2187\n",
      "Epoch [900/10000], Train Loss: 0.1647, Test Loss: 0.2086\n",
      "Epoch [1000/10000], Train Loss: 0.1452, Test Loss: 0.1986\n",
      "Epoch [1100/10000], Train Loss: 0.1278, Test Loss: 0.1890\n",
      "Epoch [1200/10000], Train Loss: 0.1128, Test Loss: 0.1805\n",
      "Epoch [1300/10000], Train Loss: 0.1015, Test Loss: 0.1749\n",
      "Epoch [1400/10000], Train Loss: 0.0938, Test Loss: 0.1726\n",
      "Epoch [1500/10000], Train Loss: 0.0879, Test Loss: 0.1710\n",
      "Epoch [1600/10000], Train Loss: 0.0749, Test Loss: 0.1602\n",
      "Epoch [1700/10000], Train Loss: 0.0543, Test Loss: 0.1339\n",
      "Epoch [1800/10000], Train Loss: 0.0450, Test Loss: 0.1234\n",
      "Epoch [1900/10000], Train Loss: 0.0401, Test Loss: 0.1186\n",
      "Epoch [2000/10000], Train Loss: 0.0363, Test Loss: 0.1140\n",
      "Epoch [2100/10000], Train Loss: 0.0327, Test Loss: 0.1077\n",
      "Epoch [2200/10000], Train Loss: 0.0293, Test Loss: 0.0994\n",
      "Epoch [2300/10000], Train Loss: 0.0262, Test Loss: 0.0902\n",
      "Epoch [2400/10000], Train Loss: 0.0237, Test Loss: 0.0820\n",
      "Epoch [2500/10000], Train Loss: 0.0217, Test Loss: 0.0760\n",
      "Epoch [2600/10000], Train Loss: 0.0202, Test Loss: 0.0715\n",
      "Epoch [2700/10000], Train Loss: 0.0190, Test Loss: 0.0681\n",
      "Epoch [2800/10000], Train Loss: 0.0181, Test Loss: 0.0653\n",
      "Epoch [2900/10000], Train Loss: 0.0175, Test Loss: 0.0632\n",
      "Epoch [3000/10000], Train Loss: 0.0171, Test Loss: 0.0617\n",
      "Epoch [3100/10000], Train Loss: 0.0167, Test Loss: 0.0605\n",
      "Epoch [3200/10000], Train Loss: 0.0165, Test Loss: 0.0596\n",
      "Epoch [3300/10000], Train Loss: 0.0163, Test Loss: 0.0589\n",
      "Epoch [3400/10000], Train Loss: 0.0161, Test Loss: 0.0584\n",
      "Epoch [3500/10000], Train Loss: 0.0159, Test Loss: 0.0580\n",
      "Epoch [3600/10000], Train Loss: 0.0157, Test Loss: 0.0576\n",
      "Epoch [3700/10000], Train Loss: 0.0156, Test Loss: 0.0572\n",
      "Epoch [3800/10000], Train Loss: 0.0154, Test Loss: 0.0568\n",
      "Epoch [3900/10000], Train Loss: 0.0153, Test Loss: 0.0565\n",
      "Epoch [4000/10000], Train Loss: 0.0152, Test Loss: 0.0563\n",
      "Epoch [4100/10000], Train Loss: 0.0150, Test Loss: 0.0560\n",
      "Epoch [4200/10000], Train Loss: 0.0149, Test Loss: 0.0558\n",
      "Epoch [4300/10000], Train Loss: 0.0148, Test Loss: 0.0556\n",
      "Epoch [4400/10000], Train Loss: 0.0147, Test Loss: 0.0554\n",
      "Epoch [4500/10000], Train Loss: 0.0146, Test Loss: 0.0553\n",
      "Epoch [4600/10000], Train Loss: 0.0145, Test Loss: 0.0550\n",
      "Epoch [4700/10000], Train Loss: 0.0145, Test Loss: 0.0548\n",
      "Epoch [4800/10000], Train Loss: 0.0144, Test Loss: 0.0546\n",
      "Epoch [4900/10000], Train Loss: 0.0143, Test Loss: 0.0544\n",
      "Epoch [5000/10000], Train Loss: 0.0142, Test Loss: 0.0541\n",
      "Epoch [5100/10000], Train Loss: 0.0142, Test Loss: 0.0538\n",
      "Epoch [5200/10000], Train Loss: 0.0141, Test Loss: 0.0535\n",
      "Epoch [5300/10000], Train Loss: 0.0140, Test Loss: 0.0532\n",
      "Epoch [5400/10000], Train Loss: 0.0140, Test Loss: 0.0529\n",
      "Epoch [5500/10000], Train Loss: 0.0139, Test Loss: 0.0526\n",
      "Epoch [5600/10000], Train Loss: 0.0138, Test Loss: 0.0523\n",
      "Epoch [5700/10000], Train Loss: 0.0138, Test Loss: 0.0520\n",
      "Epoch [5800/10000], Train Loss: 0.0137, Test Loss: 0.0516\n",
      "Epoch [5900/10000], Train Loss: 0.0137, Test Loss: 0.0513\n",
      "Epoch [6000/10000], Train Loss: 0.0136, Test Loss: 0.0509\n",
      "Epoch [6100/10000], Train Loss: 0.0136, Test Loss: 0.0506\n",
      "Epoch [6200/10000], Train Loss: 0.0135, Test Loss: 0.0502\n",
      "Epoch [6300/10000], Train Loss: 0.0135, Test Loss: 0.0498\n",
      "Epoch [6400/10000], Train Loss: 0.0134, Test Loss: 0.0494\n",
      "Epoch [6500/10000], Train Loss: 0.0134, Test Loss: 0.0490\n",
      "Epoch [6600/10000], Train Loss: 0.0133, Test Loss: 0.0486\n",
      "Epoch [6700/10000], Train Loss: 0.0133, Test Loss: 0.0482\n",
      "Epoch [6800/10000], Train Loss: 0.0132, Test Loss: 0.0478\n",
      "Epoch [6900/10000], Train Loss: 0.0132, Test Loss: 0.0474\n",
      "Epoch [7000/10000], Train Loss: 0.0131, Test Loss: 0.0469\n",
      "Epoch [7100/10000], Train Loss: 0.0131, Test Loss: 0.0465\n",
      "Epoch [7200/10000], Train Loss: 0.0130, Test Loss: 0.0461\n",
      "Epoch [7300/10000], Train Loss: 0.0130, Test Loss: 0.0456\n",
      "Epoch [7400/10000], Train Loss: 0.0129, Test Loss: 0.0452\n",
      "Epoch [7500/10000], Train Loss: 0.0129, Test Loss: 0.0447\n",
      "Epoch [7600/10000], Train Loss: 0.0128, Test Loss: 0.0443\n",
      "Epoch [7700/10000], Train Loss: 0.0128, Test Loss: 0.0439\n",
      "Epoch [7800/10000], Train Loss: 0.0127, Test Loss: 0.0435\n",
      "Epoch [7900/10000], Train Loss: 0.0127, Test Loss: 0.0431\n",
      "Epoch [8000/10000], Train Loss: 0.0126, Test Loss: 0.0427\n",
      "Epoch [8100/10000], Train Loss: 0.0126, Test Loss: 0.0423\n",
      "Epoch [8200/10000], Train Loss: 0.0125, Test Loss: 0.0419\n",
      "Epoch [8300/10000], Train Loss: 0.0125, Test Loss: 0.0415\n",
      "Epoch [8400/10000], Train Loss: 0.0124, Test Loss: 0.0412\n",
      "Epoch [8500/10000], Train Loss: 0.0124, Test Loss: 0.0408\n",
      "Epoch [8600/10000], Train Loss: 0.0123, Test Loss: 0.0405\n",
      "Epoch [8700/10000], Train Loss: 0.0122, Test Loss: 0.0401\n",
      "Epoch [8800/10000], Train Loss: 0.0122, Test Loss: 0.0398\n",
      "Epoch [8900/10000], Train Loss: 0.0121, Test Loss: 0.0394\n",
      "Epoch [9000/10000], Train Loss: 0.0121, Test Loss: 0.0391\n",
      "Epoch [9100/10000], Train Loss: 0.0120, Test Loss: 0.0388\n",
      "Epoch [9200/10000], Train Loss: 0.0119, Test Loss: 0.0385\n",
      "Epoch [9300/10000], Train Loss: 0.0119, Test Loss: 0.0381\n",
      "Epoch [9400/10000], Train Loss: 0.0118, Test Loss: 0.0379\n",
      "Epoch [9500/10000], Train Loss: 0.0118, Test Loss: 0.0375\n",
      "Early stopping at epoch 9551, best loss = 0.03739442676305771\n"
     ]
    },
    {
     "data": {
      "image/png": "[encoded data removed]",
      "text/plain": [
       "<Figure size 720x360 with 1 Axes>"
      ]
     },
     "metadata": {
      "needs_background": "light"
     },
     "output_type": "display_data"
    }
   ],
   "source": [
    "import torch\n",
    "import torch.nn as nn\n",
    "import torch.optim as optim\n",
    "import numpy as np\n",
    "from sklearn.model_selection import train_test_split\n",
    "import matplotlib.pyplot as plt\n",
    "\n",
    "# 设置随机种子\n",
    "np.random.seed(random_seed)\n",
    "torch.manual_seed(random_seed)\n",
    "\n",
    "# 分割数据\n",
    "X = data[:, 1:]\n",
    "y = data[:, :1]\n",
    "\n",
    "# 将数据集按 4:1 划分为训练集和测试集\n",
    "X_train, X_test, y_train, y_test = train_test_split(X, y, test_size=0.2, random_state=random_seed)\n",
    "\n",
    "# 转换为 PyTorch 张量\n",
    "X_train = torch.tensor(X_train, dtype=torch.float32)\n",
    "y_train = torch.tensor(y_train, dtype=torch.float32)\n",
    "X_test = torch.tensor(X_test, dtype=torch.float32)\n",
    "y_test = torch.tensor(y_test, dtype=torch.float32)\n",
    "\n",
    "\n",
    "# 对训练集的 y 进行标准化\n",
    "y_mean = y_train.mean()\n",
    "y_std = y_train.std()\n",
    "y_train = (y_train - y_mean) / y_std\n",
    "\n",
    "# 使用训练集的均值和标准差对测试集的 y 进行标准化\n",
    "y_test = (y_test - y_mean) / y_std\n",
    "\n",
    "\n",
    "# 检测是否有可用的 GPU\n",
    "device = torch.device(\"cuda\" if torch.cuda.is_available() else \"cpu\")\n",
    "print(f\"Using device: {device}\")\n",
    "\n",
    "# 将数据移动到 GPU（如果可用）\n",
    "X_train = X_train.to(device)\n",
    "y_train = y_train.to(device)\n",
    "X_test = X_test.to(device)\n",
    "y_test = y_test.to(device)\n",
    "\n",
    "\n",
    "# 实例化模型并移动到 GPU（如果可用）\n",
    "model = MLP().to(device)\n",
    "\n",
    "# 定义损失函数和优化器\n",
    "criterion = nn.MSELoss()\n",
    "optimizer = optim.Adam(model.parameters(), lr=learning_rate)\n",
    "\n",
    "# 训练模型\n",
    "\n",
    "num_batches = len(X_train) // batch_size\n",
    "best_loss = float('inf')\n",
    "trigger_times = 0\n",
    "\n",
    "# 记录损失\n",
    "train_losses = []\n",
    "test_losses = []\n",
    "\n",
    "for epoch in range(num_epochs):\n",
    "    model.train()\n",
    "    epoch_loss = 0.0\n",
    "    for i in range(num_batches):\n",
    "        start = i * batch_size\n",
    "        end = start + batch_size\n",
    "        inputs = X_train[start:end]\n",
    "        targets = y_train[start:end]\n",
    "        \n",
    "        # 前向传播\n",
    "        outputs = model(inputs)\n",
    "        loss = criterion(outputs, targets)\n",
    "        epoch_loss += loss.item()\n",
    "        \n",
    "        # 反向传播和优化\n",
    "        optimizer.zero_grad()\n",
    "        loss.backward()\n",
    "        optimizer.step()\n",
    "    \n",
    "    epoch_loss /= num_batches\n",
    "    train_losses.append(epoch_loss)\n",
    "    \n",
    "    # 在测试集上进行评估\n",
    "    model.eval()\n",
    "    with torch.no_grad():\n",
    "        test_outputs = model(X_test)\n",
    "        test_loss = criterion(test_outputs, y_test).item()\n",
    "        test_losses.append(test_loss)\n",
    "    \n",
    "    if (epoch + 1) % 100 == 0:\n",
    "        print(f'Epoch [{epoch + 1}/{num_epochs}], Train Loss: {epoch_loss:.4f}, Test Loss: {test_loss:.4f}')\n",
    "    \n",
    "    # 早停判断\n",
    "    if test_loss < best_loss:\n",
    "        best_loss = test_loss\n",
    "        trigger_times = 0\n",
    "        torch.save(model.state_dict(), best_model_path)\n",
    "    else:\n",
    "        trigger_times += 1\n",
    "        if trigger_times >= patience:\n",
    "            print(f'Early stopping at epoch {epoch + 1}, best loss = {best_loss}')\n",
    "            break\n",
    "\n",
    "\n",
    "# 绘制损失函数图像\n",
    "plt.figure(figsize=(10, 5))\n",
    "plt.plot(train_losses, label='Train Loss')\n",
    "plt.plot(test_losses, label='Test Loss')\n",
    "plt.xlabel('Epoch')\n",
    "plt.ylabel('Loss')\n",
    "plt.title('Train and Test Loss over Epochs')\n",
    "plt.legend()\n",
    "plt.show()\n"
   ]
  },
  {
   "cell_type": "code",
   "execution_count": 7,
   "metadata": {},
   "outputs": [],
   "source": [
    "model.load_state_dict(torch.load(best_model_path))\n",
    "\n",
    "model.eval()\n",
    "y_test_true = np.array(y_test.cpu().reshape(-1))\n",
    "y_test_pred = model(X_test).cpu().reshape(-1).detach().numpy()\n",
    "\n",
    "y_train_true = np.array(y_train.cpu().reshape(-1))\n",
    "y_train_pred = model(X_train).cpu().reshape(-1).detach().numpy()"
   ]
  },
  {
   "cell_type": "code",
   "execution_count": 8,
   "metadata": {},
   "outputs": [
    {
     "data": {
      "text/plain": [
       "(0.9858325905179567, 1.0889239568735352e-60)"
      ]
     },
     "execution_count": 8,
     "metadata": {},
     "output_type": "execute_result"
    }
   ],
   "source": [
    "pearsonr(y_test_pred, y_test_true)"
   ]
  },
  {
   "cell_type": "code",
   "execution_count": 9,
   "metadata": {},
   "outputs": [
    {
     "data": {
      "text/plain": [
       "<matplotlib.collections.PathCollection at 0x239ad04f580>"
      ]
     },
     "execution_count": 9,
     "metadata": {},
     "output_type": "execute_result"
    },
    {
     "data": {
      "image/png": "[encoded data removed]",
      "text/plain": [
       "<Figure size 432x288 with 1 Axes>"
      ]
     },
     "metadata": {
      "needs_background": "light"
     },
     "output_type": "display_data"
    }
   ],
   "source": [
    "plt.scatter(y_test_pred[y_test_true<10], y_test_true[y_test_true<10])"
   ]
  },
  {
   "cell_type": "code",
   "execution_count": 10,
   "metadata": {},
   "outputs": [
    {
     "data": {
      "text/plain": [
       "<matplotlib.collections.PathCollection at 0x239a3ad4790>"
      ]
     },
     "execution_count": 10,
     "metadata": {},
     "output_type": "execute_result"
    },
    {
     "data": {
      "image/png": "[encoded data removed]",
      "text/plain": [
       "<Figure size 432x288 with 1 Axes>"
      ]
     },
     "metadata": {
      "needs_background": "light"
     },
     "output_type": "display_data"
    }
   ],
   "source": [
    "plt.scatter(y_train_pred[y_train_true<100], y_train_true[y_train_true<100])"
   ]
  }
 ],
 "metadata": {
  "kernelspec": {
   "display_name": "base",
   "language": "python",
   "name": "python3"
  },
  "language_info": {
   "codemirror_mode": {
    "name": "ipython",
    "version": 3
   },
   "file_extension": ".py",
   "mimetype": "text/x-python",
   "name": "python",
   "nbconvert_exporter": "python",
   "pygments_lexer": "ipython3",
   "version": "3.9.12"
  }
 },
 "nbformat": 4,
 "nbformat_minor": 2
}
