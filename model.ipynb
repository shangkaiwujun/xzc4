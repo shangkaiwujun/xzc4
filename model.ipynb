{
 "cells": [
  {
   "cell_type": "code",
   "execution_count": 1,
   "metadata": {},
   "outputs": [],
   "source": [
    "import pandas as pd \n",
    "import numpy as np\n",
    "import torch\n",
    "import torch.nn as nn\n",
    "import torch.optim as optim\n",
    "import numpy as np\n",
    "from sklearn.model_selection import train_test_split\n",
    "import matplotlib.pyplot as plt\n",
    "from scipy.stats import pearsonr"
   ]
  },
  {
   "cell_type": "code",
   "execution_count": 2,
   "metadata": {},
   "outputs": [],
   "source": [
    "with open('raw.txt') as f:\n",
    "    a = f.readlines()\n",
    "a = list(map(lambda x:list(map(float,x.strip().split('   '))), a))\n",
    "data = np.array(a)\n",
    "del a"
   ]
  },
  {
   "cell_type": "code",
   "execution_count": 3,
   "metadata": {},
   "outputs": [],
   "source": [
    "data = data[data[:, 0] < -546]"
   ]
  },
  {
   "cell_type": "code",
   "execution_count": 4,
   "metadata": {},
   "outputs": [
    {
     "data": {
      "text/plain": [
       "(array([83., 84., 91., 59., 19., 15.,  9., 11., 10.,  9.]),\n",
       " array([-546.84097098, -546.75763825, -546.67430551, -546.59097277,\n",
       "        -546.50764003, -546.42430729, -546.34097455, -546.25764182,\n",
       "        -546.17430908, -546.09097634, -546.0076436 ]),\n",
       " <BarContainer object of 10 artists>)"
      ]
     },
     "execution_count": 4,
     "metadata": {},
     "output_type": "execute_result"
    },
    {
     "data": {
      "image/png": "[encoded data removed]",
      "text/plain": [
       "<Figure size 432x288 with 1 Axes>"
      ]
     },
     "metadata": {
      "needs_background": "light"
     },
     "output_type": "display_data"
    }
   ],
   "source": [
    "plt.hist(data[:, :1])"
   ]
  },
  {
   "cell_type": "code",
   "execution_count": 144,
   "metadata": {},
   "outputs": [],
   "source": [
    "num_epochs = 20000\n",
    "batch_size = 128\n",
    "learning_rate = 0.05\n",
    "random_seed = 14\n",
    "best_model_path = './best_model.pth'\n",
    "\n",
    "# 早停参数\n",
    "patience = 5000\n",
    "\n",
    "# 定义MLP模型\n",
    "class MLP(nn.Module):\n",
    "    def __init__(self):\n",
    "        super(MLP, self).__init__()\n",
    "        self.hidden1 = nn.Linear(X_train.shape[1], 150)\n",
    "        self.output = nn.Linear(150, 1)\n",
    "        \n",
    "    def forward(self, x):\n",
    "        x = torch.sigmoid(self.hidden1(x))\n",
    "        x = self.output(x)\n",
    "        return x"
   ]
  },
  {
   "cell_type": "code",
   "execution_count": 145,
   "metadata": {},
   "outputs": [
    {
     "name": "stdout",
     "output_type": "stream",
     "text": [
      "Using device: cuda\n",
      "Epoch [100/20000], Train Loss: 0.8228, Test Loss: 0.7563\n",
      "Epoch [200/20000], Train Loss: 0.5734, Test Loss: 0.6039\n",
      "Epoch [300/20000], Train Loss: 0.2225, Test Loss: 0.2501\n",
      "Epoch [400/20000], Train Loss: 0.1057, Test Loss: 0.1387\n",
      "Epoch [500/20000], Train Loss: 0.0682, Test Loss: 0.1208\n",
      "Epoch [600/20000], Train Loss: 0.0477, Test Loss: 0.1067\n",
      "Epoch [700/20000], Train Loss: 0.0332, Test Loss: 0.0989\n",
      "Epoch [800/20000], Train Loss: 0.0274, Test Loss: 0.0919\n",
      "Epoch [900/20000], Train Loss: 0.0238, Test Loss: 0.0864\n",
      "Epoch [1000/20000], Train Loss: 0.0210, Test Loss: 0.0840\n",
      "Epoch [1100/20000], Train Loss: 0.0193, Test Loss: 0.0809\n",
      "Epoch [1200/20000], Train Loss: 0.0178, Test Loss: 0.0765\n",
      "Epoch [1300/20000], Train Loss: 0.0161, Test Loss: 0.0701\n",
      "Epoch [1400/20000], Train Loss: 0.0142, Test Loss: 0.0618\n",
      "Epoch [1500/20000], Train Loss: 0.0128, Test Loss: 0.0544\n",
      "Epoch [1600/20000], Train Loss: 0.0120, Test Loss: 0.0493\n",
      "Epoch [1700/20000], Train Loss: 0.0117, Test Loss: 0.0453\n",
      "Epoch [1800/20000], Train Loss: 0.0209, Test Loss: 0.0527\n",
      "Epoch [1900/20000], Train Loss: 0.0099, Test Loss: 0.0384\n",
      "Epoch [2000/20000], Train Loss: 0.0093, Test Loss: 0.0360\n",
      "Epoch [2100/20000], Train Loss: 0.0088, Test Loss: 0.0340\n",
      "Epoch [2200/20000], Train Loss: 0.0085, Test Loss: 0.0328\n",
      "Epoch [2300/20000], Train Loss: 0.0080, Test Loss: 0.0312\n",
      "Epoch [2400/20000], Train Loss: 0.0076, Test Loss: 0.0309\n",
      "Epoch [2500/20000], Train Loss: 0.0074, Test Loss: 0.0298\n",
      "Epoch [2600/20000], Train Loss: 0.0071, Test Loss: 0.0298\n",
      "Epoch [2700/20000], Train Loss: 0.0074, Test Loss: 0.0299\n",
      "Epoch [2800/20000], Train Loss: 0.0067, Test Loss: 0.0294\n",
      "Epoch [2900/20000], Train Loss: 0.0177, Test Loss: 0.0369\n",
      "Epoch [3000/20000], Train Loss: 0.0064, Test Loss: 0.0292\n",
      "Epoch [3100/20000], Train Loss: 0.0066, Test Loss: 0.0293\n",
      "Epoch [3200/20000], Train Loss: 0.0061, Test Loss: 0.0289\n",
      "Epoch [3300/20000], Train Loss: 0.0060, Test Loss: 0.0295\n",
      "Epoch [3400/20000], Train Loss: 0.0059, Test Loss: 0.0286\n",
      "Epoch [3500/20000], Train Loss: 0.0058, Test Loss: 0.0293\n",
      "Epoch [3600/20000], Train Loss: 0.0057, Test Loss: 0.0284\n",
      "Epoch [3700/20000], Train Loss: 0.0056, Test Loss: 0.0289\n",
      "Epoch [3800/20000], Train Loss: 0.0059, Test Loss: 0.0285\n",
      "Epoch [3900/20000], Train Loss: 0.0054, Test Loss: 0.0287\n",
      "Epoch [4000/20000], Train Loss: 0.0118, Test Loss: 0.0600\n",
      "Epoch [4100/20000], Train Loss: 0.0053, Test Loss: 0.0283\n",
      "Epoch [4200/20000], Train Loss: 0.0176, Test Loss: 0.0315\n",
      "Epoch [4300/20000], Train Loss: 0.0051, Test Loss: 0.0278\n",
      "Epoch [4400/20000], Train Loss: 0.0077, Test Loss: 0.0278\n",
      "Epoch [4500/20000], Train Loss: 0.0050, Test Loss: 0.0273\n",
      "Epoch [4600/20000], Train Loss: 0.0075, Test Loss: 0.0269\n",
      "Epoch [4700/20000], Train Loss: 0.0049, Test Loss: 0.0267\n",
      "Epoch [4800/20000], Train Loss: 0.0083, Test Loss: 0.0255\n",
      "Epoch [4900/20000], Train Loss: 0.0048, Test Loss: 0.0260\n",
      "Epoch [5000/20000], Train Loss: 0.0065, Test Loss: 0.0329\n",
      "Epoch [5100/20000], Train Loss: 0.0047, Test Loss: 0.0252\n",
      "Epoch [5200/20000], Train Loss: 0.0057, Test Loss: 0.0248\n",
      "Epoch [5300/20000], Train Loss: 0.0046, Test Loss: 0.0244\n",
      "Epoch [5400/20000], Train Loss: 0.0049, Test Loss: 0.0257\n",
      "Epoch [5500/20000], Train Loss: 0.0045, Test Loss: 0.0236\n",
      "Epoch [5600/20000], Train Loss: 0.0047, Test Loss: 0.0239\n",
      "Epoch [5700/20000], Train Loss: 0.0044, Test Loss: 0.0229\n",
      "Epoch [5800/20000], Train Loss: 0.0046, Test Loss: 0.0228\n",
      "Epoch [5900/20000], Train Loss: 0.0044, Test Loss: 0.0222\n",
      "Epoch [6000/20000], Train Loss: 0.0045, Test Loss: 0.0225\n",
      "Epoch [6100/20000], Train Loss: 0.0043, Test Loss: 0.0215\n",
      "Epoch [6200/20000], Train Loss: 0.0044, Test Loss: 0.0221\n",
      "Epoch [6300/20000], Train Loss: 0.0043, Test Loss: 0.0209\n",
      "Epoch [6400/20000], Train Loss: 0.0043, Test Loss: 0.0215\n",
      "Epoch [6500/20000], Train Loss: 0.0042, Test Loss: 0.0204\n",
      "Epoch [6600/20000], Train Loss: 0.0043, Test Loss: 0.0206\n",
      "Epoch [6700/20000], Train Loss: 0.0042, Test Loss: 0.0199\n",
      "Epoch [6800/20000], Train Loss: 0.0042, Test Loss: 0.0203\n",
      "Epoch [6900/20000], Train Loss: 0.0041, Test Loss: 0.0195\n",
      "Epoch [7000/20000], Train Loss: 0.0041, Test Loss: 0.0197\n",
      "Epoch [7100/20000], Train Loss: 0.0041, Test Loss: 0.0191\n",
      "Epoch [7200/20000], Train Loss: 0.0041, Test Loss: 0.0196\n",
      "Epoch [7300/20000], Train Loss: 0.0040, Test Loss: 0.0188\n",
      "Epoch [7400/20000], Train Loss: 0.0040, Test Loss: 0.0192\n",
      "Epoch [7500/20000], Train Loss: 0.0051, Test Loss: 0.0271\n",
      "Epoch [7600/20000], Train Loss: 0.0040, Test Loss: 0.0189\n",
      "Epoch [7700/20000], Train Loss: 0.0077, Test Loss: 0.0249\n",
      "Epoch [7800/20000], Train Loss: 0.0039, Test Loss: 0.0185\n",
      "Epoch [7900/20000], Train Loss: 0.0039, Test Loss: 0.0186\n",
      "Epoch [8000/20000], Train Loss: 0.0039, Test Loss: 0.0182\n",
      "Epoch [8100/20000], Train Loss: 0.0039, Test Loss: 0.0188\n",
      "Epoch [8200/20000], Train Loss: 0.0038, Test Loss: 0.0180\n",
      "Epoch [8300/20000], Train Loss: 0.0038, Test Loss: 0.0185\n",
      "Epoch [8400/20000], Train Loss: 0.0104, Test Loss: 0.0210\n",
      "Epoch [8500/20000], Train Loss: 0.0037, Test Loss: 0.0183\n",
      "Epoch [8600/20000], Train Loss: 0.0072, Test Loss: 0.0170\n",
      "Epoch [8700/20000], Train Loss: 0.0037, Test Loss: 0.0178\n",
      "Epoch [8800/20000], Train Loss: 0.0037, Test Loss: 0.0188\n",
      "Epoch [8900/20000], Train Loss: 0.0036, Test Loss: 0.0175\n",
      "Epoch [9000/20000], Train Loss: 0.0036, Test Loss: 0.0179\n",
      "Epoch [9100/20000], Train Loss: 0.0037, Test Loss: 0.0192\n",
      "Epoch [9200/20000], Train Loss: 0.0036, Test Loss: 0.0175\n",
      "Epoch [9300/20000], Train Loss: 0.0146, Test Loss: 0.0182\n",
      "Epoch [9400/20000], Train Loss: 0.0035, Test Loss: 0.0170\n",
      "Epoch [9500/20000], Train Loss: 0.0039, Test Loss: 0.0181\n",
      "Epoch [9600/20000], Train Loss: 0.0035, Test Loss: 0.0163\n",
      "Epoch [9700/20000], Train Loss: 0.0035, Test Loss: 0.0165\n",
      "Epoch [9800/20000], Train Loss: 0.0034, Test Loss: 0.0153\n",
      "Epoch [9900/20000], Train Loss: 0.0034, Test Loss: 0.0157\n",
      "Epoch [10000/20000], Train Loss: 0.0093, Test Loss: 0.0151\n",
      "Epoch [10100/20000], Train Loss: 0.0033, Test Loss: 0.0148\n",
      "Epoch [10200/20000], Train Loss: 0.0034, Test Loss: 0.0153\n",
      "Epoch [10300/20000], Train Loss: 0.0033, Test Loss: 0.0135\n",
      "Epoch [10400/20000], Train Loss: 0.0033, Test Loss: 0.0136\n",
      "Epoch [10500/20000], Train Loss: 0.0090, Test Loss: 0.0215\n",
      "Epoch [10600/20000], Train Loss: 0.0033, Test Loss: 0.0123\n",
      "Epoch [10700/20000], Train Loss: 0.0057, Test Loss: 0.0126\n",
      "Epoch [10800/20000], Train Loss: 0.0033, Test Loss: 0.0116\n",
      "Epoch [10900/20000], Train Loss: 0.0053, Test Loss: 0.0132\n",
      "Epoch [11000/20000], Train Loss: 0.0035, Test Loss: 0.0111\n",
      "Epoch [11100/20000], Train Loss: 0.0048, Test Loss: 0.0120\n",
      "Epoch [11200/20000], Train Loss: 0.0037, Test Loss: 0.0107\n",
      "Epoch [11300/20000], Train Loss: 0.0042, Test Loss: 0.0149\n",
      "Epoch [11400/20000], Train Loss: 0.0034, Test Loss: 0.0111\n",
      "Epoch [11500/20000], Train Loss: 0.0044, Test Loss: 0.0116\n",
      "Epoch [11600/20000], Train Loss: 0.0032, Test Loss: 0.0102\n",
      "Epoch [11700/20000], Train Loss: 0.0048, Test Loss: 0.0120\n",
      "Epoch [11800/20000], Train Loss: 0.0030, Test Loss: 0.0104\n",
      "Epoch [11900/20000], Train Loss: 0.0043, Test Loss: 0.0113\n",
      "Epoch [12000/20000], Train Loss: 0.0029, Test Loss: 0.0100\n",
      "Epoch [12100/20000], Train Loss: 0.0037, Test Loss: 0.0108\n",
      "Epoch [12200/20000], Train Loss: 0.0029, Test Loss: 0.0100\n",
      "Epoch [12300/20000], Train Loss: 0.0035, Test Loss: 0.0100\n",
      "Epoch [12400/20000], Train Loss: 0.0031, Test Loss: 0.0106\n",
      "Epoch [12500/20000], Train Loss: 0.0035, Test Loss: 0.0110\n",
      "Epoch [12600/20000], Train Loss: 0.0049, Test Loss: 0.0186\n",
      "Epoch [12700/20000], Train Loss: 0.0032, Test Loss: 0.0113\n",
      "Epoch [12800/20000], Train Loss: 0.0046, Test Loss: 0.0125\n",
      "Epoch [12900/20000], Train Loss: 0.0037, Test Loss: 0.0107\n",
      "Epoch [13000/20000], Train Loss: 0.0050, Test Loss: 0.0119\n",
      "Epoch [13100/20000], Train Loss: 0.0030, Test Loss: 0.0113\n",
      "Epoch [13200/20000], Train Loss: 0.0046, Test Loss: 0.0113\n",
      "Epoch [13300/20000], Train Loss: 0.0029, Test Loss: 0.0108\n",
      "Epoch [13400/20000], Train Loss: 0.0035, Test Loss: 0.0117\n",
      "Epoch [13500/20000], Train Loss: 0.0028, Test Loss: 0.0110\n",
      "Epoch [13600/20000], Train Loss: 0.0031, Test Loss: 0.0121\n",
      "Epoch [13700/20000], Train Loss: 0.0028, Test Loss: 0.0110\n",
      "Epoch [13800/20000], Train Loss: 0.0032, Test Loss: 0.0119\n",
      "Epoch [13900/20000], Train Loss: 0.0033, Test Loss: 0.0118\n",
      "Epoch [14000/20000], Train Loss: 0.0035, Test Loss: 0.0115\n",
      "Epoch [14100/20000], Train Loss: 0.0036, Test Loss: 0.0150\n",
      "Epoch [14200/20000], Train Loss: 0.0033, Test Loss: 0.0116\n",
      "Epoch [14300/20000], Train Loss: 0.0092, Test Loss: 0.0117\n",
      "Epoch [14400/20000], Train Loss: 0.0030, Test Loss: 0.0128\n",
      "Epoch [14500/20000], Train Loss: 0.0037, Test Loss: 0.0151\n",
      "Epoch [14600/20000], Train Loss: 0.0035, Test Loss: 0.0129\n",
      "Epoch [14700/20000], Train Loss: 0.0048, Test Loss: 0.0125\n",
      "Epoch [14800/20000], Train Loss: 0.0035, Test Loss: 0.0119\n",
      "Epoch [14900/20000], Train Loss: 0.0047, Test Loss: 0.0124\n",
      "Epoch [15000/20000], Train Loss: 0.0028, Test Loss: 0.0125\n",
      "Epoch [15100/20000], Train Loss: 0.0038, Test Loss: 0.0146\n",
      "Epoch [15200/20000], Train Loss: 0.0030, Test Loss: 0.0120\n",
      "Epoch [15300/20000], Train Loss: 0.0031, Test Loss: 0.0131\n",
      "Epoch [15400/20000], Train Loss: 0.0026, Test Loss: 0.0119\n",
      "Epoch [15500/20000], Train Loss: 0.0030, Test Loss: 0.0136\n",
      "Epoch [15600/20000], Train Loss: 0.0029, Test Loss: 0.0133\n",
      "Epoch [15700/20000], Train Loss: 0.0028, Test Loss: 0.0126\n",
      "Epoch [15800/20000], Train Loss: 0.0041, Test Loss: 0.0136\n",
      "Epoch [15900/20000], Train Loss: 0.0025, Test Loss: 0.0121\n",
      "Epoch [16000/20000], Train Loss: 0.0031, Test Loss: 0.0121\n",
      "Epoch [16100/20000], Train Loss: 0.0035, Test Loss: 0.0129\n",
      "Epoch [16200/20000], Train Loss: 0.0044, Test Loss: 0.0117\n",
      "Epoch [16300/20000], Train Loss: 0.0030, Test Loss: 0.0126\n",
      "Epoch [16400/20000], Train Loss: 0.0038, Test Loss: 0.0129\n",
      "Epoch [16500/20000], Train Loss: 0.0047, Test Loss: 0.0166\n",
      "Epoch [16600/20000], Train Loss: 0.0028, Test Loss: 0.0120\n",
      "Epoch [16700/20000], Train Loss: 0.0031, Test Loss: 0.0127\n",
      "Epoch [16800/20000], Train Loss: 0.0087, Test Loss: 0.0161\n",
      "Epoch [16900/20000], Train Loss: 0.0026, Test Loss: 0.0126\n",
      "Epoch [17000/20000], Train Loss: 0.0032, Test Loss: 0.0130\n",
      "Early stopping at epoch 17034, best loss = 0.009486722759902477\n"
     ]
    },
    {
     "data": {
      "image/png": "[encoded data removed]",
      "text/plain": [
       "<Figure size 720x360 with 1 Axes>"
      ]
     },
     "metadata": {
      "needs_background": "light"
     },
     "output_type": "display_data"
    }
   ],
   "source": [
    "import torch\n",
    "import torch.nn as nn\n",
    "import torch.optim as optim\n",
    "import numpy as np\n",
    "from sklearn.model_selection import train_test_split\n",
    "import matplotlib.pyplot as plt\n",
    "\n",
    "# 设置随机种子\n",
    "np.random.seed(random_seed)\n",
    "torch.manual_seed(random_seed)\n",
    "\n",
    "# 分割数据\n",
    "X = data[:, 1:]\n",
    "y = data[:, :1]\n",
    "\n",
    "# 将数据集按 4:1 划分为训练集和测试集\n",
    "X_train, X_test, y_train, y_test = train_test_split(X, y, test_size=0.2, random_state=random_seed)\n",
    "\n",
    "# 转换为 PyTorch 张量\n",
    "X_train = torch.tensor(X_train, dtype=torch.float32)\n",
    "y_train = torch.tensor(y_train, dtype=torch.float32)\n",
    "X_test = torch.tensor(X_test, dtype=torch.float32)\n",
    "y_test = torch.tensor(y_test, dtype=torch.float32)\n",
    "\n",
    "\n",
    "# 对训练集的 y 进行标准化\n",
    "y_mean = y_train.mean()\n",
    "y_std = y_train.std()\n",
    "y_train = (y_train - y_mean) / y_std\n",
    "\n",
    "# 使用训练集的均值和标准差对测试集的 y 进行标准化\n",
    "y_test = (y_test - y_mean) / y_std\n",
    "\n",
    "\n",
    "# 检测是否有可用的 GPU\n",
    "device = torch.device(\"cuda\" if torch.cuda.is_available() else \"cpu\")\n",
    "print(f\"Using device: {device}\")\n",
    "\n",
    "# 将数据移动到 GPU（如果可用）\n",
    "X_train = X_train.to(device)\n",
    "y_train = y_train.to(device)\n",
    "X_test = X_test.to(device)\n",
    "y_test = y_test.to(device)\n",
    "\n",
    "\n",
    "# 实例化模型并移动到 GPU（如果可用）\n",
    "model = MLP().to(device)\n",
    "\n",
    "# 定义损失函数和优化器\n",
    "criterion = nn.MSELoss()\n",
    "optimizer = optim.Adam(model.parameters(), lr=learning_rate)\n",
    "\n",
    "# 训练模型\n",
    "\n",
    "num_batches = len(X_train) // batch_size\n",
    "best_loss = float('inf')\n",
    "trigger_times = 0\n",
    "\n",
    "# 记录损失\n",
    "train_losses = []\n",
    "test_losses = []\n",
    "\n",
    "for epoch in range(num_epochs):\n",
    "    model.train()\n",
    "    epoch_loss = 0.0\n",
    "    for i in range(num_batches):\n",
    "        start = i * batch_size\n",
    "        end = start + batch_size\n",
    "        inputs = X_train[start:end]\n",
    "        targets = y_train[start:end]\n",
    "        \n",
    "        # 前向传播\n",
    "        outputs = model(inputs)\n",
    "        loss = criterion(outputs, targets)\n",
    "        epoch_loss += loss.item()\n",
    "        \n",
    "        # 反向传播和优化\n",
    "        optimizer.zero_grad()\n",
    "        loss.backward()\n",
    "        optimizer.step()\n",
    "    \n",
    "    epoch_loss /= num_batches\n",
    "    train_losses.append(epoch_loss)\n",
    "    \n",
    "    # 在测试集上进行评估\n",
    "    model.eval()\n",
    "    with torch.no_grad():\n",
    "        test_outputs = model(X_test)\n",
    "        test_loss = criterion(test_outputs, y_test).item()\n",
    "        test_losses.append(test_loss)\n",
    "    \n",
    "    if (epoch + 1) % 100 == 0:\n",
    "        print(f'Epoch [{epoch + 1}/{num_epochs}], Train Loss: {epoch_loss:.4f}, Test Loss: {test_loss:.4f}')\n",
    "    \n",
    "    # 早停判断\n",
    "    if test_loss < best_loss:\n",
    "        best_loss = test_loss\n",
    "        trigger_times = 0\n",
    "        torch.save(model.state_dict(), best_model_path)\n",
    "    else:\n",
    "        trigger_times += 1\n",
    "        if trigger_times >= patience:\n",
    "            print(f'Early stopping at epoch {epoch + 1}, best loss = {best_loss}')\n",
    "            break\n",
    "\n",
    "\n",
    "# 绘制损失函数图像\n",
    "plt.figure(figsize=(10, 5))\n",
    "plt.plot(train_losses, label='Train Loss')\n",
    "plt.plot(test_losses, label='Test Loss')\n",
    "plt.xlabel('Epoch')\n",
    "plt.ylabel('Loss')\n",
    "plt.yscale('log')\n",
    "plt.title('Train and Test Loss over Epochs')\n",
    "plt.legend()\n",
    "plt.show()\n"
   ]
  },
  {
   "cell_type": "code",
   "execution_count": 146,
   "metadata": {},
   "outputs": [],
   "source": [
    "model.load_state_dict(torch.load(best_model_path))\n",
    "\n",
    "model.eval()\n",
    "y_test_true = np.array(y_test.cpu().reshape(-1))\n",
    "y_test_pred = model(X_test).cpu().reshape(-1).detach().numpy()\n",
    "\n",
    "y_train_true = np.array(y_train.cpu().reshape(-1))\n",
    "y_train_pred = model(X_train).cpu().reshape(-1).detach().numpy()"
   ]
  },
  {
   "cell_type": "code",
   "execution_count": 147,
   "metadata": {},
   "outputs": [
    {
     "data": {
      "text/plain": [
       "(0.9956416475400137, 4.5639333832831414e-80)"
      ]
     },
     "execution_count": 147,
     "metadata": {},
     "output_type": "execute_result"
    }
   ],
   "source": [
    "pearsonr(y_test_pred, y_test_true)"
   ]
  },
  {
   "cell_type": "code",
   "execution_count": 148,
   "metadata": {},
   "outputs": [
    {
     "data": {
      "text/plain": [
       "<matplotlib.collections.PathCollection at 0x1fe535a9040>"
      ]
     },
     "execution_count": 148,
     "metadata": {},
     "output_type": "execute_result"
    },
    {
     "data": {
      "image/png": "[encoded data removed]",
      "text/plain": [
       "<Figure size 432x288 with 1 Axes>"
      ]
     },
     "metadata": {
      "needs_background": "light"
     },
     "output_type": "display_data"
    }
   ],
   "source": [
    "plt.scatter(y_test_pred[y_test_true<10], y_test_true[y_test_true<10])"
   ]
  },
  {
   "cell_type": "code",
   "execution_count": 149,
   "metadata": {},
   "outputs": [
    {
     "data": {
      "text/plain": [
       "<matplotlib.collections.PathCollection at 0x1fe538edf70>"
      ]
     },
     "execution_count": 149,
     "metadata": {},
     "output_type": "execute_result"
    },
    {
     "data": {
      "image/png": "[encoded data removed]",
      "text/plain": [
       "<Figure size 432x288 with 1 Axes>"
      ]
     },
     "metadata": {
      "needs_background": "light"
     },
     "output_type": "display_data"
    }
   ],
   "source": [
    "plt.scatter(y_train_pred[y_train_true<100], y_train_true[y_train_true<100])"
   ]
  },
  {
   "cell_type": "code",
   "execution_count": null,
   "metadata": {},
   "outputs": [],
   "source": []
  }
 ],
 "metadata": {
  "kernelspec": {
   "display_name": "base",
   "language": "python",
   "name": "python3"
  },
  "language_info": {
   "codemirror_mode": {
    "name": "ipython",
    "version": 3
   },
   "file_extension": ".py",
   "mimetype": "text/x-python",
   "name": "python",
   "nbconvert_exporter": "python",
   "pygments_lexer": "ipython3",
   "version": "3.9.12"
  }
 },
 "nbformat": 4,
 "nbformat_minor": 2
}
